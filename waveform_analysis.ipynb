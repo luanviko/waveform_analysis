{
 "cells": [
  {
   "cell_type": "markdown",
   "id": "bca5a74a",
   "metadata": {},
   "source": [
    "# Waveform Analysis"
   ]
  },
  {
   "cell_type": "markdown",
   "id": "e12e9897-73f6-4221-9105-cff358650903",
   "metadata": {},
   "source": [
    "[Any typo is on purpose]"
   ]
  },
  {
   "cell_type": "markdown",
   "id": "b3036823-0c22-4d74-9f29-8e4212ff191c",
   "metadata": {},
   "source": [
    "This notebook will analyze the waveforms, find pulses in the waveform and determine:\n",
    "* Pulse amplitude;\n",
    "* Pulse charge (integrate area under pulse);\n",
    "* Pulse timing (sample with pulses maximum amplitude).\n",
    "\n",
    "Each section of the notebook will:\n",
    "\n",
    "**1.** Define required parameters and load waveforms in dictionaries organized by channel.\n",
    "\n",
    "**2.** Display a waveform for a given event. \n",
    "\n",
    "**3.** Find pulse information, as described above.\n",
    "\n",
    "**4.** Store amplitude, charge and timing for each waveform and channel into a ROOT file."
   ]
  },
  {
   "cell_type": "markdown",
   "id": "0003dd6d-6626-4d4c-8220-846482b00abd",
   "metadata": {},
   "source": [
    "Load up packages."
   ]
  },
  {
   "cell_type": "code",
   "execution_count": 12,
   "id": "a47ce954",
   "metadata": {
    "scrolled": true
   },
   "outputs": [],
   "source": [
    "import uproot, numpy as np, matplotlib.pyplot as plt, platform\n",
    "import matplotlib.colors as colors\n",
    "from ipywidgets import IntProgress"
   ]
  },
  {
   "cell_type": "markdown",
   "id": "d00165e2",
   "metadata": {},
   "source": [
    "# 1. Define Digitizer Params and Load Waveforms"
   ]
  },
  {
   "cell_type": "markdown",
   "id": "960e3903-dd3d-467e-b5d6-eeec3e4f457f",
   "metadata": {},
   "source": [
    "## Digitizer Parameters for Unit Conversion"
   ]
  },
  {
   "cell_type": "markdown",
   "id": "2cf21e87-b438-423f-9fef-324bbba0b983",
   "metadata": {},
   "source": [
    "* The verticalScaleFactor conversts digitizer units to mV.\n",
    "* It is the ratio between the digitizer's vertical range and the number of bits on that axis."
   ]
  },
  {
   "cell_type": "code",
   "execution_count": 13,
   "id": "fab5b390-d7c9-4a62-8efe-f8fb915c6105",
   "metadata": {},
   "outputs": [],
   "source": [
    "mppc_DIGITIZER_FULL_SCALE_RANGE = 2.5 # Vpp\n",
    "mppc_DIGITIZER_RESOLUTION       = 12 # bits\n",
    "digiCounts = 2.**mppc_DIGITIZER_RESOLUTION\n",
    "verticalScaleFactor = 1.e3*mppc_DIGITIZER_FULL_SCALE_RANGE/digiCounts; # mV/bank"
   ]
  },
  {
   "cell_type": "markdown",
   "id": "b66919cd-7c45-4965-832b-bdf6fbcb9d3f",
   "metadata": {},
   "source": [
    "* The horizontalScaleFactor converts sample number to nanoseconds.\n",
    "* It considers that the digitizer was taking 3200000000 samples per second."
   ]
  },
  {
   "cell_type": "code",
   "execution_count": 14,
   "id": "ec98de59-56c0-40e8-8668-3647be081b53",
   "metadata": {},
   "outputs": [],
   "source": [
    "mppc_DIGITIZER_SAMPLE_RATE      = 3200000000 # S/s\n",
    "horizontalScaleFactor = 1.e9/mppc_DIGITIZER_SAMPLE_RATE #ns/sample"
   ]
  },
  {
   "cell_type": "markdown",
   "id": "5369d0aa-c644-4f5f-9fa6-3ac080697514",
   "metadata": {},
   "source": [
    "## Load Waveforms from ROOT File"
   ]
  },
  {
   "cell_type": "markdown",
   "id": "4f8107e6-2b46-48b7-a5f2-19dd1ec857f6",
   "metadata": {},
   "source": [
    "* Waveforms are store in a tree creatively named ```waveform_tree```.\n",
    "* In this tree, each digitizer channel is in a branch called ```dtwave00``` ... ```dtwave07```.\n",
    "\n",
    "The ```fetch_data``` function will:  \n",
    "* Use ```uproot``` to access the tree and branches.  \n",
    "* Create a dicitionary that contains keys from ```00``` up to ```07```, corresponding to each digitizer channel.\n",
    "* A list of channels must be provided as ```channels = ['00', '01', '02'. '02']```."
   ]
  },
  {
   "cell_type": "code",
   "execution_count": 15,
   "id": "486d5168-b91e-4eaa-a24f-fc771597e014",
   "metadata": {},
   "outputs": [],
   "source": [
    "def fetch_data(root_file_path:str, channels:list[str]=[\"00\"], verticalScaleFactor=verticalScaleFactor) -> dict:\n",
    "    \n",
    "    # Digitizer specs\n",
    "    mppc_DIGITIZER_FULL_SCALE_RANGE = 2.5 # Vpp\n",
    "    mppc_DIGITIZER_RESOLUTION       = 12 # bits\n",
    "    mppc_DIGITIZER_SAMPLE_RATE      = 3200000000 # S/s\n",
    "    digiCounts = 2.**mppc_DIGITIZER_RESOLUTION\n",
    "    \n",
    "    # Find number of entries.\n",
    "    with uproot.open(root_file_path) as root_file:\n",
    "        N_entries = root_file[\"waveform_tree\"].num_entries\n",
    "        print(\"Number of waveforms per channel:\", root_file[\"waveform_tree\"].num_entries)\n",
    "\n",
    "    # Fetch all waveforms per channel\n",
    "    waveforms = {}\n",
    "    branches = [f\"dt5743_wave{ch}\" for ch in channels]\n",
    "    for i in range(0, len(branches)):\n",
    "        with uproot.open(root_file_path) as root_file:\n",
    "            waveforms_raw = root_file[\"waveform_tree\"].arrays([branches[i]], library=\"np\", entry_start = 0, entry_stop = N_entries)[branches[i]]\n",
    "            waveforms[channels[i]] = waveforms_raw*verticalScaleFactor\n",
    "\n",
    "    print(\"Channels retrieved: \", waveforms.keys())\n",
    "    return waveforms"
   ]
  },
  {
   "cell_type": "markdown",
   "id": "62e1edd6-3fc9-443b-8d94-cd0426d18d53",
   "metadata": {},
   "source": [
    "* To fetch all the waveforms for run 28, provide the path to the respective root file."
   ]
  },
  {
   "cell_type": "code",
   "execution_count": 16,
   "id": "eaf36eba-97c1-4217-99d8-20943d6b728d",
   "metadata": {},
   "outputs": [
    {
     "name": "stdout",
     "output_type": "stream",
     "text": [
      "Number of waveforms per channel: 409\n",
      "Channels retrieved:  dict_keys(['00', '01', '02', '03'])\n"
     ]
    }
   ],
   "source": [
    "root_file_path = \"./output00000028.root\"\n",
    "waveforms = fetch_data(root_file_path, channels=[\"00\",\"01\",\"02\",\"03\"])"
   ]
  },
  {
   "cell_type": "markdown",
   "id": "27a5bce2-7d87-4765-9880-c31ac00ab5dd",
   "metadata": {},
   "source": [
    "* As an example, to access waveforms 120 from channel '01', use:"
   ]
  },
  {
   "cell_type": "code",
   "execution_count": 17,
   "id": "7153e845-e487-4a50-8a32-6419c1a113c8",
   "metadata": {},
   "outputs": [
    {
     "data": {
      "text/plain": [
       "array([938.72070312, 936.88964844, 938.72070312, ...,   0.        ,\n",
       "         0.        ,   0.        ])"
      ]
     },
     "execution_count": 17,
     "metadata": {},
     "output_type": "execute_result"
    }
   ],
   "source": [
    "waveforms['01'][120]"
   ]
  },
  {
   "cell_type": "markdown",
   "id": "58df315b",
   "metadata": {},
   "source": [
    "# 2. Waveform Display"
   ]
  },
  {
   "cell_type": "markdown",
   "id": "31425117-10fc-4112-b171-a37cd75a6e9a",
   "metadata": {},
   "source": [
    "* To display the same event for each channel in two columns of plot."
   ]
  },
  {
   "cell_type": "code",
   "execution_count": 18,
   "id": "de60ca41",
   "metadata": {},
   "outputs": [],
   "source": [
    "def display_waveform(waveforms, event_number = 0, channels=[\"00\", \"01\"], xscale = None, xlabel=None, ylabel=None, xrange=None, yrange=None, title=None, save:str=\"\"): \n",
    "\n",
    "    ncols = 2\n",
    "    nrows = int(len(channels)/2) if len(channels)%2==0 else int(len(channels)//2+1) \n",
    "    \n",
    "    fig, axes = plt.subplots(nrows=nrows, ncols=ncols, sharey=False, sharex=False, figsize=(8,5))\n",
    "    axes = axes.flatten()\n",
    "\n",
    "    # Print \n",
    "    i = 0\n",
    "    if xscale != None:\n",
    "        for ch in channels:\n",
    "            axes[i].plot(np.arange(0,len(waveforms[ch][event_number]))*xscale, waveforms[ch][event_number], \"black\")\n",
    "            i = i + 1\n",
    "        if xrange == None: \n",
    "            axes[i].set_xlim(0, len(waveforms[ch][event_number])*xscale)\n",
    "            i = i + 1\n",
    "    \n",
    "    else:\n",
    "        for ch in channels:\n",
    "            axes[i].plot(np.arange(0,len(waveforms[ch][event_number])), waveforms[ch][event_number], \"black\")\n",
    "            i = i + 1\n",
    "        if xrange == None: \n",
    "            axes[i].set_xlim(0, len(waveforms[ch][event_number])*xscale)\n",
    "            i = i + 1\n",
    "\n",
    "    # Set ranges\n",
    "    for axi in axes:\n",
    "        if xrange != None: axi.set_xlim(xrange)\n",
    "        if yrange != None: axi.set_ylim(yrange)\n",
    "        if xlabel != None: axi.set_xlabel(xlabel)\n",
    "        if ylabel != None: axi.set_ylabel(ylabel)\n",
    "        \n",
    "\n",
    "    # fig.canvas.toolbar_visible = True\n",
    "    # fig.canvas.header_visible = False\n",
    "    # fig.canvas.resizable = True\n",
    "    plt.tight_layout()\n",
    "    if save != None:\n",
    "        plt.savefig(save)\n",
    "    \n",
    "    # plt.show()"
   ]
  },
  {
   "cell_type": "code",
   "execution_count": 29,
   "id": "6331b69b",
   "metadata": {},
   "outputs": [
    {
     "data": {
      "image/png": "[encoded data removed]",
      "text/plain": [
       "<Figure size 800x500 with 4 Axes>"
      ]
     },
     "metadata": {},
     "output_type": "display_data"
    }
   ],
   "source": [
    "display_waveform(waveforms, \n",
    "                    event_number = 196, \n",
    "                    channels = [\"00\", \"01\", \"02\", \"03\"], \n",
    "                    xscale = horizontalScaleFactor, \n",
    "                    xrange = [0,159],\n",
    "                    yrange = [200,1000],\n",
    "                    ylabel = \"Amplitude (mV)\",\n",
    "                    xlabel = \"Time (ns)\",\n",
    "                    save   = \"display_120.png\" )"
   ]
  },
  {
   "cell_type": "code",
   "execution_count": 24,
   "id": "7b3c5c8a-acbe-4a83-b1b1-60ef0365863f",
   "metadata": {},
   "outputs": [
    {
     "data": {
      "text/plain": [
       "(409, 1024)"
      ]
     },
     "execution_count": 24,
     "metadata": {},
     "output_type": "execute_result"
    }
   ],
   "source": [
    "waveforms['00'].shape"
   ]
  },
  {
   "cell_type": "code",
   "execution_count": 27,
   "id": "03784c09-efbe-461f-99a0-0b4878e17b63",
   "metadata": {},
   "outputs": [],
   "source": [
    "def find_saturated(waveforms):\n",
    "    saturated = []\n",
    "    for ch in waveforms.keys():\n",
    "        for i in range(0, waveforms[ch].shape[0]):\n",
    "            if np.any(waveforms[ch][i] > 1000):\n",
    "                saturated.append(i)\n",
    "    return saturated"
   ]
  },
  {
   "cell_type": "code",
   "execution_count": 30,
   "id": "b58c38c0-6365-4d5b-bce2-473480bfece2",
   "metadata": {},
   "outputs": [],
   "source": [
    "saturated = find_saturated(waveforms)"
   ]
  },
  {
   "cell_type": "markdown",
   "id": "eced4f62",
   "metadata": {},
   "source": [
    "# 3. Pulse Information"
   ]
  },
  {
   "cell_type": "markdown",
   "id": "55383cf4-37a1-4b7c-9b2a-f3de62306226",
   "metadata": {},
   "source": [
    "* The function below takes the waveform of **one single channel** and analyzes each waveform.\n",
    "* It finds the baseline, amplitude, charge and timing of a pulse in the waveform.\n",
    "* Such information is stored in numpy arrays."
   ]
  },
  {
   "cell_type": "code",
   "execution_count": 9,
   "id": "822f3dea",
   "metadata": {},
   "outputs": [],
   "source": [
    "def analyze_data(waveforms, A=None, B=None, j_A=10, j_B=100, auto_window = False):\n",
    "\n",
    "    # Initialize arrays with zeroes\n",
    "    N_entries = len(waveforms)\n",
    "    charge     = np.zeros(N_entries)\n",
    "    amplitude  = np.zeros(N_entries)\n",
    "    timing     = np.zeros(N_entries)\n",
    "\n",
    "    # Add some eye candy\n",
    "    progress = IntProgress(min=0, max=N_entries)\n",
    "    display(progress)\n",
    "\n",
    "    # If no specific time window, integrate charge over entire waveform.\n",
    "    if A == None: A = 0\n",
    "    if B == None: B = len(waveforms[0])\n",
    "\n",
    "    # auto_window will integrate only around the pulse.\n",
    "    if auto_window == False: print(f\"Integration window: {A} Sa to {B} Sa.\")\n",
    "    if auto_window == True : print(f\"Integration window: j_max-{j_A} to j_max+{j_B}.\")\n",
    "\n",
    "    # Loop over every waveform and find baseline, amplitude, charge and timing.\n",
    "    for i in range(0, N_entries):\n",
    "        baseline = np.average(waveforms[i][25:100])\n",
    "        j_max = np.argmax(-1.*waveforms[i][A:B])\n",
    "        timing[i] = j_max\n",
    "        amplitude[i]   = -1.*(waveforms[i][j_max]-baseline)\n",
    "        if auto_window == True:\n",
    "            A = j_max - j_A\n",
    "            B = j_max + j_B\n",
    "            if A  <= 0:   A = 0\n",
    "            if B  > 1024: B = 1024\n",
    "        charge[i]     = -1.*np.sum(waveforms[i][A:B]-baseline)\n",
    "\n",
    "        # Progress bar iteration\n",
    "        if i%1000 == 0: \n",
    "            progress.value += 1000\n",
    " \n",
    "    return charge, amplitude, timing"
   ]
  },
  {
   "cell_type": "markdown",
   "id": "168385fc-32c8-45ed-8812-3c41f6aa1289",
   "metadata": {},
   "source": [
    "* To run the analysis for more than one channel, run it for each one.\n",
    "* The following code will run the analysis and store pulse information in dictionaries."
   ]
  },
  {
   "cell_type": "code",
   "execution_count": 10,
   "id": "38d14749",
   "metadata": {},
   "outputs": [
    {
     "data": {
      "application/vnd.jupyter.widget-view+json": {
       "model_id": "43b0a62aabd94352b7726ae7d2078b21",
       "version_major": 2,
       "version_minor": 0
      },
      "text/plain": [
       "IntProgress(value=0, max=409)"
      ]
     },
     "metadata": {},
     "output_type": "display_data"
    },
    {
     "name": "stdout",
     "output_type": "stream",
     "text": [
      "Integration window: 0 Sa to 1024 Sa.\n"
     ]
    },
    {
     "data": {
      "application/vnd.jupyter.widget-view+json": {
       "model_id": "69f0f9c10f734fdda1c211afef8d78b4",
       "version_major": 2,
       "version_minor": 0
      },
      "text/plain": [
       "IntProgress(value=0, max=409)"
      ]
     },
     "metadata": {},
     "output_type": "display_data"
    },
    {
     "name": "stdout",
     "output_type": "stream",
     "text": [
      "Integration window: 0 Sa to 1024 Sa.\n"
     ]
    },
    {
     "data": {
      "application/vnd.jupyter.widget-view+json": {
       "model_id": "486ad890924249ce81e7b552fc7e8e5b",
       "version_major": 2,
       "version_minor": 0
      },
      "text/plain": [
       "IntProgress(value=0, max=409)"
      ]
     },
     "metadata": {},
     "output_type": "display_data"
    },
    {
     "name": "stdout",
     "output_type": "stream",
     "text": [
      "Integration window: 0 Sa to 1024 Sa.\n"
     ]
    },
    {
     "data": {
      "application/vnd.jupyter.widget-view+json": {
       "model_id": "c68b3d4878024e1b94f2bea0a05a3ab3",
       "version_major": 2,
       "version_minor": 0
      },
      "text/plain": [
       "IntProgress(value=0, max=409)"
      ]
     },
     "metadata": {},
     "output_type": "display_data"
    },
    {
     "name": "stdout",
     "output_type": "stream",
     "text": [
      "Integration window: 0 Sa to 1024 Sa.\n"
     ]
    }
   ],
   "source": [
    "charges, amplitudes, timings = {}, {}, {}\n",
    "channels = [\"00\", \"01\", \"02\", \"03\"]\n",
    "for ch in channels:\n",
    "    charges[ch], amplitudes[ch], timings[ch] = analyze_data(waveforms[ch], A=None, B=None, j_A=10, j_B=100, auto_window = False)"
   ]
  },
  {
   "cell_type": "markdown",
   "id": "2225dfd8-07fe-4b6a-a376-8963e317a95b",
   "metadata": {},
   "source": [
    "* The pulse charges for channel ```'01'``` and amplitudes for channel ```'03'``` then accessed as:"
   ]
  },
  {
   "cell_type": "code",
   "execution_count": 31,
   "id": "17e1ddaf-2523-4c5d-bca2-0afa0d491611",
   "metadata": {},
   "outputs": [
    {
     "data": {
      "text/plain": [
       "(409,)"
      ]
     },
     "execution_count": 31,
     "metadata": {},
     "output_type": "execute_result"
    }
   ],
   "source": [
    "charges['01'].shape"
   ]
  },
  {
   "cell_type": "code",
   "execution_count": 32,
   "id": "3050e29a-60a5-465b-b14d-3a0e1a83f669",
   "metadata": {
    "scrolled": true
   },
   "outputs": [],
   "source": [
    "charges_i_want = []\n",
    "for i in range(0, charges['01'].shape[0]):\n",
    "    if i not in saturated:\n",
    "        charges_i_want.append(charges['01'][i])\n",
    "        "
   ]
  },
  {
   "cell_type": "code",
   "execution_count": 33,
   "id": "2a9dd474-89fb-4017-b8d0-f15125a43d0c",
   "metadata": {
    "scrolled": true
   },
   "outputs": [
    {
     "data": {
      "text/plain": [
       "[482259.9772135415,\n",
       " 487066.9677734375,\n",
       " 482395.0520833335,\n",
       " 482634.716796875,\n",
       " 482689.8681640625,\n",
       " 475802.978515625,\n",
       " 439339.111328125,\n",
       " 482173.868815104,\n",
       " 484276.171875,\n",
       " 482388.3951822915,\n",
       " 482705.769856771,\n",
       " 484284.952799479,\n",
       " 483762.6708984375,\n",
       " 484686.3118489585,\n",
       " 481945.5810546875,\n",
       " 489752.628580729,\n",
       " 479826.7333984375,\n",
       " 483413.631184896,\n",
       " 479526.904296875,\n",
       " 482823.7630208335,\n",
       " 474210.107421875,\n",
       " 482722.111002604,\n",
       " 483216.1376953125,\n",
       " 484097.029622396,\n",
       " 484370.1904296875,\n",
       " 482832.804361979,\n",
       " 481857.6904296875,\n",
       " 485506.0384114585,\n",
       " 481696.875,\n",
       " 486052.63671875,\n",
       " 486651.8391927085,\n",
       " 472005.818684896,\n",
       " 481606.339518229,\n",
       " 484515.0227864585,\n",
       " 483603.1982421875,\n",
       " 483264.298502604,\n",
       " 482830.232747396,\n",
       " 475764.990234375,\n",
       " 484850.3580729165,\n",
       " 485534.920247396,\n",
       " 483585.498046875,\n",
       " 483356.2744140625,\n",
       " 484022.306315104,\n",
       " 477392.0247395835,\n",
       " 485089.0950520835,\n",
       " 482129.6061197915,\n",
       " 482960.6770833335,\n",
       " 489711.8408203125,\n",
       " 494382.657877604,\n",
       " 489525.528971354,\n",
       " 487453.5400390625,\n",
       " 484939.0380859375,\n",
       " 485393.595377604,\n",
       " 483534.4889322915,\n",
       " 486231.2255859375,\n",
       " 484303.662109375,\n",
       " 477615.5029296875,\n",
       " 494815.3483072915,\n",
       " 482194.9381510415,\n",
       " 483762.2314453125,\n",
       " 483104.98046875,\n",
       " 485647.420247396,\n",
       " 483647.7701822915,\n",
       " 487052.140299479,\n",
       " 487616.219075521,\n",
       " 485844.327799479,\n",
       " 481743.8639322915,\n",
       " 456749.4384765625,\n",
       " 485297.013346354,\n",
       " 479953.653971354,\n",
       " 490489.933268229,\n",
       " 484529.5572916665,\n",
       " 486115.13671875,\n",
       " 484977.4251302085,\n",
       " 491054.8990885415,\n",
       " 487993.5384114585,\n",
       " 485321.9970703125,\n",
       " 483302.7669270835,\n",
       " 483239.3310546875,\n",
       " 480462.59765625,\n",
       " 479426.0416666665,\n",
       " 481796.004231771,\n",
       " 483303.1087239585,\n",
       " 483155.118815104,\n",
       " 485235.0830078125,\n",
       " 483062.687174479,\n",
       " 480493.0826822915,\n",
       " 483846.728515625,\n",
       " 481883.203125,\n",
       " 486590.5517578125,\n",
       " 487791.89453125,\n",
       " 481543.7255859375,\n",
       " 483916.463216146,\n",
       " 479797.176106771,\n",
       " 485384.806315104,\n",
       " 470283.0891927085,\n",
       " 467198.9501953125,\n",
       " 481261.5234375,\n",
       " 486376.8310546875,\n",
       " 481086.1490885415,\n",
       " 493938.18359375,\n",
       " 483715.6901041665,\n",
       " 483647.713216146,\n",
       " 486403.409830729,\n",
       " 479774.324544271,\n",
       " 482607.666015625,\n",
       " 483464.16015625,\n",
       " 486382.023111979,\n",
       " 488545.9309895835,\n",
       " 488069.189453125,\n",
       " 483398.592122396,\n",
       " 484746.6959635415,\n",
       " 482857.413736979,\n",
       " 479140.437825521,\n",
       " 480257.560221354,\n",
       " 484959.4401041665,\n",
       " 481652.5390625,\n",
       " 482079.1015625,\n",
       " 480808.7646484375,\n",
       " 482235.1888020835,\n",
       " 488220.9228515625,\n",
       " 482442.423502604,\n",
       " 499661.678059896,\n",
       " 483848.8118489585,\n",
       " 465722.0865885415,\n",
       " 475798.53515625,\n",
       " 489658.6588541665,\n",
       " 489205.7291666665,\n",
       " 482934.47265625,\n",
       " 486152.482096354,\n",
       " 490709.4889322915,\n",
       " 482644.1650390625,\n",
       " 476109.86328125,\n",
       " 489329.3619791665,\n",
       " 483073.73046875,\n",
       " 486224.4384765625,\n",
       " 482333.5286458335,\n",
       " 483864.9658203125,\n",
       " 482059.187825521,\n",
       " 483067.87109375,\n",
       " 483004.9479166665,\n",
       " 482250.3092447915,\n",
       " 487733.0891927085,\n",
       " 484216.658528646,\n",
       " 458963.419596354,\n",
       " 481038.8671875,\n",
       " 482539.5670572915,\n",
       " 482047.1435546875,\n",
       " 475384.659830729,\n",
       " 486868.994140625,\n",
       " 481414.84375,\n",
       " 481565.2018229165,\n",
       " 485445.7194010415,\n",
       " 483629.39453125,\n",
       " 488239.900716146,\n",
       " 501722.550455729,\n",
       " 482507.869466146,\n",
       " 480548.038736979,\n",
       " 483597.265625,\n",
       " 482511.9873046875,\n",
       " 477734.9446614585,\n",
       " 483939.851888021,\n",
       " 489928.4505208335,\n",
       " 487158.2682291665,\n",
       " 484653.5888671875,\n",
       " 478652.8564453125,\n",
       " 481138.6474609375,\n",
       " 484427.83203125,\n",
       " 484302.8157552085,\n",
       " 484175.68359375,\n",
       " 486139.900716146,\n",
       " 481381.9986979165,\n",
       " 483253.1982421875,\n",
       " 483897.8759765625,\n",
       " 484590.5110677085,\n",
       " 492326.310221354,\n",
       " 483465.242513021,\n",
       " 489002.44140625,\n",
       " 481744.8404947915,\n",
       " 481075.8138020835,\n",
       " 478737.003580729,\n",
       " 482187.2802734375,\n",
       " 484982.2021484375,\n",
       " 488720.0032552085,\n",
       " 483508.7565104165,\n",
       " 483071.044921875,\n",
       " 481106.7138671875,\n",
       " 480731.2825520835,\n",
       " 482067.521158854,\n",
       " 480930.0455729165,\n",
       " 479829.9153645835,\n",
       " 473201.066080729,\n",
       " 486944.962565104,\n",
       " 487272.696940104,\n",
       " 460463.4765625,\n",
       " 483029.8177083335,\n",
       " 483702.791341146,\n",
       " 489108.3740234375,\n",
       " 481304.931640625,\n",
       " 482591.512044271,\n",
       " 481665.861002604,\n",
       " 481002.1484375,\n",
       " 482172.8352864585,\n",
       " 482295.597330729,\n",
       " 485421.7122395835,\n",
       " 473681.4697265625,\n",
       " 485799.9186197915,\n",
       " 485006.0709635415,\n",
       " 483594.620768229,\n",
       " 469086.81640625,\n",
       " 480607.120768229,\n",
       " 481815.0634765625,\n",
       " 484701.114908854,\n",
       " 481939.363606771,\n",
       " 485319.0104166665,\n",
       " 485991.7805989585,\n",
       " 482188.4765625,\n",
       " 484237.0849609375,\n",
       " 486561.922200521,\n",
       " 479366.707356771,\n",
       " 484619.5068359375,\n",
       " 483961.4990234375,\n",
       " 479340.5517578125,\n",
       " 488138.777669271,\n",
       " 483656.103515625,\n",
       " 482396.3541666665,\n",
       " 484052.2623697915,\n",
       " 485001.7740885415,\n",
       " 485715.234375,\n",
       " 483415.6494140625,\n",
       " 484857.5358072915,\n",
       " 446622.23307291657,\n",
       " 482101.896158854,\n",
       " 484071.329752604,\n",
       " 483015.861002604,\n",
       " 489943.611653646,\n",
       " 484296.150716146,\n",
       " 484178.0110677085,\n",
       " 457405.31412760407,\n",
       " 466236.6943359375,\n",
       " 485498.201497396,\n",
       " 484070.857747396,\n",
       " 484155.126953125,\n",
       " 480483.69140625,\n",
       " 477035.595703125,\n",
       " 486805.8349609375,\n",
       " 486386.7350260415,\n",
       " 481937.3697916665,\n",
       " 483615.6087239585,\n",
       " 482505.908203125,\n",
       " 479159.7900390625,\n",
       " 480451.07421875,\n",
       " 475885.001627604,\n",
       " 481558.4147135415,\n",
       " 477511.238606771,\n",
       " 463759.5052083335,\n",
       " 479276.407877604,\n",
       " 488617.4072265625,\n",
       " 484902.05078125,\n",
       " 483894.091796875,\n",
       " 474585.8561197915,\n",
       " 487448.966471354,\n",
       " 481909.2610677085,\n",
       " 483255.8430989585,\n",
       " 483674.7884114585,\n",
       " 488401.2939453125,\n",
       " 481005.183919271,\n",
       " 484640.13671875,\n",
       " 483601.513671875,\n",
       " 480869.1162109375,\n",
       " 480180.118815104,\n",
       " 480549.609375,\n",
       " 483775.577799479,\n",
       " 481443.45703125,\n",
       " 485273.234049479,\n",
       " 495237.2802734375,\n",
       " 478059.5458984375,\n",
       " 482886.8977864585,\n",
       " 484408.341471354,\n",
       " 481561.1165364585,\n",
       " 472068.8232421875,\n",
       " 478978.7353515625,\n",
       " 482011.564127604,\n",
       " 507773.1282552085,\n",
       " 483992.8466796875,\n",
       " 479887.2395833335,\n",
       " 483826.424153646,\n",
       " 483022.8190104165,\n",
       " 474604.00390625,\n",
       " 490194.677734375,\n",
       " 510010.0748697915,\n",
       " 466222.9817708335,\n",
       " 484181.3232421875,\n",
       " 483432.8125,\n",
       " 482877.2135416665]"
      ]
     },
     "execution_count": 33,
     "metadata": {},
     "output_type": "execute_result"
    }
   ],
   "source": [
    "charges_i_want"
   ]
  },
  {
   "cell_type": "code",
   "execution_count": 34,
   "id": "a1b8b7c7-bb62-46f9-9b3a-98dba6355e5a",
   "metadata": {},
   "outputs": [],
   "source": [
    "def plot_histogram(data, N_bins=None, x_range=[], zoom=[], title=\"\", xlabel=\"\", save=None):\n",
    "    fig, (ax0) = plt.subplots(nrows=1, ncols=1, sharey=False, sharex=False, figsize=(8,5))\n",
    "    histogram = ax0.hist(data, bins=N_bins, histtype='step', color='black')\n",
    "    ax0.set_ylabel(\"No. of events\")\n",
    "    ax0.set_xlabel(xlabel)"
   ]
  },
  {
   "cell_type": "code",
   "execution_count": 35,
   "id": "4c565175-862b-4e29-88db-105e7bd374d9",
   "metadata": {},
   "outputs": [
    {
     "data": {
      "image/png": "[encoded data removed]",
      "text/plain": [
       "<Figure size 800x500 with 1 Axes>"
      ]
     },
     "metadata": {},
     "output_type": "display_data"
    }
   ],
   "source": [
    "plot_histogram(charges_i_want, N_bins=100)"
   ]
  },
  {
   "cell_type": "markdown",
   "id": "0e283ce2-2746-4a2b-873e-a44d77e734d4",
   "metadata": {},
   "source": [
    "# 4. Save Pulse Information"
   ]
  },
  {
   "cell_type": "markdown",
   "id": "27dbd2db-4463-4888-8643-10dab7b62335",
   "metadata": {},
   "source": [
    "* Save pulse information in the goold old way of storing particle physics data -- a ROOT file.\n",
    "* First organize data into a dictionary that contains the other dictionaries. "
   ]
  },
  {
   "cell_type": "code",
   "execution_count": 25,
   "id": "8f3f6aa3-2234-401d-bcf6-48f83b6c18fd",
   "metadata": {},
   "outputs": [],
   "source": [
    "data = {\"amplitude\":amplitudes, \"charge\":charges, \"timing\":timings}"
   ]
  },
  {
   "cell_type": "markdown",
   "id": "adc381f7-a8db-4763-9505-43477d4dcd7f",
   "metadata": {},
   "source": [
    "* Define a function that calls uproot and stores that dictionary into a ROOT file."
   ]
  },
  {
   "cell_type": "code",
   "execution_count": 26,
   "id": "3e1ffc73",
   "metadata": {},
   "outputs": [],
   "source": [
    "def to_root(file_name, data):\n",
    "    # @descrition: Save data dictionary to a tree in a root file\n",
    "    # @params: _file_name_ with path to root file and _data_ dict.\n",
    "    print(f\"Saving to: {file_name}.root\")\n",
    "    with uproot.recreate(file_name+\".root\") as output_file:\n",
    "        output_file[\"pulse_information\"] = data"
   ]
  },
  {
   "cell_type": "markdown",
   "id": "ed52d21a-624e-4140-9a7f-d47569f6a547",
   "metadata": {},
   "source": [
    "* Run that function to actually save the data."
   ]
  },
  {
   "cell_type": "code",
   "execution_count": 27,
   "id": "3f44fa80-1ccf-4e5b-ab20-890571ec78ff",
   "metadata": {},
   "outputs": [
    {
     "name": "stdout",
     "output_type": "stream",
     "text": [
      "Saving to: ./pulse_info_29.root.root\n"
     ]
    }
   ],
   "source": [
    "to_root(\"./pulse_info_29.root\", data)"
   ]
  },
  {
   "cell_type": "markdown",
   "id": "b5409f34-ee1f-4bac-aaf6-b8539e785cb3",
   "metadata": {},
   "source": [
    "### Are you tired of using ROOT?"
   ]
  },
  {
   "cell_type": "markdown",
   "id": "459319fd-2129-4336-84dc-59cde3db122e",
   "metadata": {},
   "source": [
    "* Are you tired of defining classes, branches and trees just to store 3 arrays?\n",
    "  \n",
    "* ***numpy will store your dictionaries with a single liner.***\n",
    "  \n",
    "* [If interested, please refer to [this documentation.](https://numpy.org/doc/2.1/reference/generated/numpy.savez.html) ]"
   ]
  },
  {
   "cell_type": "code",
   "execution_count": 28,
   "id": "69827f1d-85bc-42fe-8514-43ac18cf5072",
   "metadata": {},
   "outputs": [],
   "source": [
    "def to_npz(file_name, data):\n",
    "    # Save data dictionary to an npz file\n",
    "    # @params: _file_name_ with path to npz file and _data_ dict.   \n",
    "    print(f\"Saving to: {file_name}\")\n",
    "    np.savez_compressed(file_name, **data)"
   ]
  },
  {
   "cell_type": "code",
   "execution_count": 29,
   "id": "b8549288-23c9-4101-8320-37758826d059",
   "metadata": {},
   "outputs": [
    {
     "name": "stdout",
     "output_type": "stream",
     "text": [
      "Saving to: ./pulse_info_28.npz\n"
     ]
    }
   ],
   "source": [
    "to_npz(\"./pulse_info_28.npz\", data)"
   ]
  }
 ],
 "metadata": {
  "kernelspec": {
   "display_name": "Python 3 (ipykernel)",
   "language": "python",
   "name": "python3"
  },
  "language_info": {
   "codemirror_mode": {
    "name": "ipython",
    "version": 3
   },
   "file_extension": ".py",
   "mimetype": "text/x-python",
   "name": "python",
   "nbconvert_exporter": "python",
   "pygments_lexer": "ipython3",
   "version": "3.12.2"
  }
 },
 "nbformat": 4,
 "nbformat_minor": 5
}
