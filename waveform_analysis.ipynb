{
 "cells": [
  {
   "cell_type": "markdown",
   "id": "bca5a74a",
   "metadata": {},
   "source": [
    "# Waveform Analysis"
   ]
  },
  {
   "cell_type": "markdown",
   "id": "e12e9897-73f6-4221-9105-cff358650903",
   "metadata": {},
   "source": [
    "[Any typo is on purpose]"
   ]
  },
  {
   "cell_type": "markdown",
   "id": "b3036823-0c22-4d74-9f29-8e4212ff191c",
   "metadata": {},
   "source": [
    "This notebook will analyze the waveforms, find pulses in the waveform and determine:\n",
    "* Pulse amplitude;\n",
    "* Pulse charge (integrate area under pulse);\n",
    "* Pulse timing (sample with pulses maximum amplitude).\n",
    "\n",
    "Each section of the notebook will:\n",
    "\n",
    "**1.** Define required parameters and load waveforms in dictionaries organized by channel.\n",
    "\n",
    "**2.** Display a waveform for a given event. \n",
    "\n",
    "**3.** Find pulse information, as described above.\n",
    "\n",
    "**4.** Store amplitude, charge and timing for each waveform and channel into a ROOT file."
   ]
  },
  {
   "cell_type": "markdown",
   "id": "0003dd6d-6626-4d4c-8220-846482b00abd",
   "metadata": {},
   "source": [
    "Load up packages."
   ]
  },
  {
   "cell_type": "code",
   "execution_count": 7,
   "id": "a47ce954",
   "metadata": {
    "scrolled": true
   },
   "outputs": [],
   "source": [
    "import uproot, numpy as np, matplotlib.pyplot as plt, platform\n",
    "import matplotlib.colors as colors\n",
    "from ipywidgets import IntProgress"
   ]
  },
  {
   "cell_type": "markdown",
   "id": "d00165e2",
   "metadata": {},
   "source": [
    "# 1. Define Digitizer Params and Load Waveforms"
   ]
  },
  {
   "cell_type": "markdown",
   "id": "960e3903-dd3d-467e-b5d6-eeec3e4f457f",
   "metadata": {},
   "source": [
    "## Digitizer Parameters for Unit Conversion"
   ]
  },
  {
   "cell_type": "markdown",
   "id": "2cf21e87-b438-423f-9fef-324bbba0b983",
   "metadata": {},
   "source": [
    "* The verticalScaleFactor conversts digitizer units to mV.\n",
    "* It is the ratio between the number digitizer's vertical range and the number of bits on that axis."
   ]
  },
  {
   "cell_type": "code",
   "execution_count": 8,
   "id": "fab5b390-d7c9-4a62-8efe-f8fb915c6105",
   "metadata": {},
   "outputs": [],
   "source": [
    "mppc_DIGITIZER_FULL_SCALE_RANGE = 2.5 # Vpp\n",
    "mppc_DIGITIZER_RESOLUTION       = 12 # bits\n",
    "digiCounts = 2.**mppc_DIGITIZER_RESOLUTION\n",
    "verticalScaleFactor = 1.e3*mppc_DIGITIZER_FULL_SCALE_RANGE/digiCounts; # mV/bank"
   ]
  },
  {
   "cell_type": "markdown",
   "id": "b66919cd-7c45-4965-832b-bdf6fbcb9d3f",
   "metadata": {},
   "source": [
    "* The horizontalScaleFactor converts sample number to nanoseconds.\n",
    "* It considers that the digitizer was taking 3200000000 samples per second."
   ]
  },
  {
   "cell_type": "code",
   "execution_count": 9,
   "id": "ec98de59-56c0-40e8-8668-3647be081b53",
   "metadata": {},
   "outputs": [],
   "source": [
    "mppc_DIGITIZER_SAMPLE_RATE      = 3200000000 # S/s\n",
    "horizontalScaleFactor = 1.e9/mppc_DIGITIZER_SAMPLE_RATE #ns/sample"
   ]
  },
  {
   "cell_type": "markdown",
   "id": "5369d0aa-c644-4f5f-9fa6-3ac080697514",
   "metadata": {},
   "source": [
    "## Load Waveforms from ROOT File"
   ]
  },
  {
   "cell_type": "markdown",
   "id": "4f8107e6-2b46-48b7-a5f2-19dd1ec857f6",
   "metadata": {},
   "source": [
    "* Waveforms are store in a tree creatively named ```waveform_tree```.\n",
    "* In this tree, each digitizer channel is in a branch called ```dtwave00``` ... ```dtwave07```.\n",
    "\n",
    "The ```fetch_data``` function will:  \n",
    "* Use ```uproot``` to access the tree and branches.  \n",
    "* Create a dicitionary that contains keys from ```00``` up to ```07```, corresponding to each digitizer channel.\n",
    "* A list of channels must be provided as ```channels = ['00', '01', '02'. '02']```."
   ]
  },
  {
   "cell_type": "code",
   "execution_count": 10,
   "id": "486d5168-b91e-4eaa-a24f-fc771597e014",
   "metadata": {},
   "outputs": [],
   "source": [
    "def fetch_data(root_file_path:str, channels:list[str]=[\"00\"], verticalScaleFactor=verticalScaleFactor) -> dict:\n",
    "    \n",
    "    # Digitizer specs\n",
    "    mppc_DIGITIZER_FULL_SCALE_RANGE = 2.5 # Vpp\n",
    "    mppc_DIGITIZER_RESOLUTION       = 12 # bits\n",
    "    mppc_DIGITIZER_SAMPLE_RATE      = 3200000000 # S/s\n",
    "    digiCounts = 2.**mppc_DIGITIZER_RESOLUTION\n",
    "    \n",
    "    # Find number of entries.\n",
    "    with uproot.open(root_file_path) as root_file:\n",
    "        N_entries = root_file[\"waveform_tree\"].num_entries\n",
    "        print(\"Number of waveforms per channel:\", root_file[\"waveform_tree\"].num_entries)\n",
    "\n",
    "    # Fetch all waveforms per channel\n",
    "    waveforms = {}\n",
    "    branches = [f\"dt5743_wave{ch}\" for ch in channels]\n",
    "    for i in range(0, len(branches)):\n",
    "        with uproot.open(root_file_path) as root_file:\n",
    "            waveforms_raw = root_file[\"waveform_tree\"].arrays([branches[i]], library=\"np\", entry_start = 0, entry_stop = N_entries)[branches[i]]\n",
    "            waveforms[channels[i]] = waveforms_raw*verticalScaleFactor\n",
    "\n",
    "    print(\"Channels retrieved: \", waveforms.keys())\n",
    "    return waveforms"
   ]
  },
  {
   "cell_type": "markdown",
   "id": "62e1edd6-3fc9-443b-8d94-cd0426d18d53",
   "metadata": {},
   "source": [
    "* To fetch all the waveforms for run 28, provide the path to the respective root file."
   ]
  },
  {
   "cell_type": "code",
   "execution_count": 11,
   "id": "eaf36eba-97c1-4217-99d8-20943d6b728d",
   "metadata": {},
   "outputs": [
    {
     "name": "stdout",
     "output_type": "stream",
     "text": [
      "Number of waveforms per channel: 409\n",
      "Channels retrieved:  dict_keys(['00', '01', '02', '03'])\n"
     ]
    }
   ],
   "source": [
    "root_file_path = \"./output00000028.root\"\n",
    "waveforms = fetch_data(root_file_path, channels=[\"00\",\"01\",\"02\",\"03\"])"
   ]
  },
  {
   "cell_type": "markdown",
   "id": "27a5bce2-7d87-4765-9880-c31ac00ab5dd",
   "metadata": {},
   "source": [
    "* As an example, to access waveforms 120 from channel '01', use:"
   ]
  },
  {
   "cell_type": "code",
   "execution_count": 12,
   "id": "7153e845-e487-4a50-8a32-6419c1a113c8",
   "metadata": {},
   "outputs": [
    {
     "data": {
      "text/plain": [
       "array([938.72070312, 936.88964844, 938.72070312, ...,   0.        ,\n",
       "         0.        ,   0.        ])"
      ]
     },
     "execution_count": 12,
     "metadata": {},
     "output_type": "execute_result"
    }
   ],
   "source": [
    "waveforms['01'][120]"
   ]
  },
  {
   "cell_type": "markdown",
   "id": "58df315b",
   "metadata": {},
   "source": [
    "# 2. Waveform Display"
   ]
  },
  {
   "cell_type": "markdown",
   "id": "31425117-10fc-4112-b171-a37cd75a6e9a",
   "metadata": {},
   "source": [
    "* To display the same event for each channel in two columns of plot."
   ]
  },
  {
   "cell_type": "code",
   "execution_count": 13,
   "id": "de60ca41",
   "metadata": {},
   "outputs": [],
   "source": [
    "def display_waveform(waveforms, event_number = 0, channels=[\"00\", \"01\"], xscale = None, xlabel=None, ylabel=None, xrange=None, yrange=None, title=None, save:str=\"\"): \n",
    "\n",
    "    ncols = 2\n",
    "    nrows = int(len(channels)/2) if len(channels)%2==0 else int(len(channels)//2+1) \n",
    "    \n",
    "    fig, axes = plt.subplots(nrows=nrows, ncols=ncols, sharey=False, sharex=False, figsize=(8,5))\n",
    "    axes = axes.flatten()\n",
    "\n",
    "    # Print \n",
    "    i = 0\n",
    "    if xscale != None:\n",
    "        for ch in channels:\n",
    "            axes[i].plot(np.arange(0,len(waveforms[ch][event_number]))*xscale, waveforms[ch][event_number], \"black\")\n",
    "            i = i + 1\n",
    "        if xrange == None: \n",
    "            axes[i].set_xlim(0, len(waveforms[ch][event_number])*xscale)\n",
    "            i = i + 1\n",
    "    \n",
    "    else:\n",
    "        for ch in channels:\n",
    "            axes[i].plot(np.arange(0,len(waveforms[ch][event_number])), waveforms[ch][event_number], \"black\")\n",
    "            i = i + 1\n",
    "        if xrange == None: \n",
    "            axes[i].set_xlim(0, len(waveforms[ch][event_number])*xscale)\n",
    "            i = i + 1\n",
    "\n",
    "    # Set ranges\n",
    "    for axi in axes:\n",
    "        if xrange != None: axi.set_xlim(xrange)\n",
    "        if yrange != None: axi.set_ylim(yrange)\n",
    "        if xlabel != None: axi.set_xlabel(xlabel)\n",
    "        if ylabel != None: axi.set_ylabel(ylabel)\n",
    "        \n",
    "\n",
    "    # fig.canvas.toolbar_visible = True\n",
    "    # fig.canvas.header_visible = False\n",
    "    # fig.canvas.resizable = True\n",
    "    plt.tight_layout()\n",
    "    if save != None:\n",
    "        plt.savefig(save)\n",
    "    \n",
    "    # plt.show()"
   ]
  },
  {
   "cell_type": "code",
   "execution_count": 14,
   "id": "6331b69b",
   "metadata": {},
   "outputs": [
    {
     "data": {
      "image/png": "[encoded data removed]",
      "text/plain": [
       "<Figure size 800x500 with 4 Axes>"
      ]
     },
     "metadata": {},
     "output_type": "display_data"
    }
   ],
   "source": [
    "display_waveform(waveforms, \n",
    "                    event_number = 120, \n",
    "                    channels = [\"00\", \"01\", \"02\", \"03\"], \n",
    "                    xscale = horizontalScaleFactor, \n",
    "                    xrange = [0,159],\n",
    "                    yrange = [200,1000],\n",
    "                    ylabel = \"Amplitude (mV)\",\n",
    "                    xlabel = \"Time (ns)\",\n",
    "                    save   = \"display_120.png\" )"
   ]
  },
  {
   "cell_type": "markdown",
   "id": "eced4f62",
   "metadata": {},
   "source": [
    "# 3. Pulse Information"
   ]
  },
  {
   "cell_type": "markdown",
   "id": "55383cf4-37a1-4b7c-9b2a-f3de62306226",
   "metadata": {},
   "source": [
    "* The function below takes the waveform of **one single channel** and analyzes each waveform.\n",
    "* It finds the baseline, amplitude, charge and timing of a pulse in the waveform.\n",
    "* Such information is stored in numpy arrays."
   ]
  },
  {
   "cell_type": "code",
   "execution_count": 16,
   "id": "822f3dea",
   "metadata": {},
   "outputs": [],
   "source": [
    "def analyze_data(waveforms, A=None, B=None, j_A=10, j_B=100, auto_window = False):\n",
    "\n",
    "    # Initialize arrays with zeroes\n",
    "    N_entries = len(waveforms)\n",
    "    charge     = np.zeros(N_entries)\n",
    "    amplitude  = np.zeros(N_entries)\n",
    "    timing     = np.zeros(N_entries)\n",
    "\n",
    "    # Add some eye candy\n",
    "    progress = IntProgress(min=0, max=N_entries)\n",
    "    display(progress)\n",
    "\n",
    "    # If no specific time window, integrate charge over entire waveform.\n",
    "    if A == None: A = 0\n",
    "    if B == None: B = len(waveforms[0])\n",
    "\n",
    "    # auto_window will integrate only around the pulse.\n",
    "    if auto_window == False: print(f\"Integration window: {A} Sa to {B} Sa.\")\n",
    "    if auto_window == True : print(f\"Integration window: j_max-{j_A} to j_max+{j_B}.\")\n",
    "\n",
    "    # Loop over every waveform and find baseline, amplitude, charge and timing.\n",
    "    for i in range(0, N_entries):\n",
    "        baseline = np.average(waveforms[i][25:100])\n",
    "        j_max = np.argmax(-1.*waveforms[i][A:B])\n",
    "        timing[i] = j_max\n",
    "        amplitude[i]   = -1.*(waveforms[i][j_max]-baseline)\n",
    "        if auto_window == True:\n",
    "            A = j_max - j_A\n",
    "            B = j_max + j_B\n",
    "            if A  <= 0:   A = 0\n",
    "            if B  > 1024: B = 1024\n",
    "        charge[i]     = -1.*np.sum(waveforms[i][A:B]-baseline)\n",
    "\n",
    "        # Progress bar iteration\n",
    "        if i%1000 == 0: \n",
    "            progress.value += 1000\n",
    " \n",
    "    return charge, amplitude, timing"
   ]
  },
  {
   "cell_type": "markdown",
   "id": "168385fc-32c8-45ed-8812-3c41f6aa1289",
   "metadata": {},
   "source": [
    "* To run the analysis for more than one channel, run it for each one.\n",
    "* The following code will run the analysis and store pulse information in dictionaries."
   ]
  },
  {
   "cell_type": "code",
   "execution_count": 17,
   "id": "38d14749",
   "metadata": {},
   "outputs": [
    {
     "data": {
      "application/vnd.jupyter.widget-view+json": {
       "model_id": "9b6bac63100c448fbda5690775d526b1",
       "version_major": 2,
       "version_minor": 0
      },
      "text/plain": [
       "IntProgress(value=0, max=409)"
      ]
     },
     "metadata": {},
     "output_type": "display_data"
    },
    {
     "name": "stdout",
     "output_type": "stream",
     "text": [
      "Integration window: 0 Sa to 1024 Sa.\n"
     ]
    },
    {
     "data": {
      "application/vnd.jupyter.widget-view+json": {
       "model_id": "e4b195e9d1954f44bb187f10d141764d",
       "version_major": 2,
       "version_minor": 0
      },
      "text/plain": [
       "IntProgress(value=0, max=409)"
      ]
     },
     "metadata": {},
     "output_type": "display_data"
    },
    {
     "name": "stdout",
     "output_type": "stream",
     "text": [
      "Integration window: 0 Sa to 1024 Sa.\n"
     ]
    },
    {
     "data": {
      "application/vnd.jupyter.widget-view+json": {
       "model_id": "8897fa56f5b2448dadc5240b5efd7545",
       "version_major": 2,
       "version_minor": 0
      },
      "text/plain": [
       "IntProgress(value=0, max=409)"
      ]
     },
     "metadata": {},
     "output_type": "display_data"
    },
    {
     "name": "stdout",
     "output_type": "stream",
     "text": [
      "Integration window: 0 Sa to 1024 Sa.\n"
     ]
    },
    {
     "data": {
      "application/vnd.jupyter.widget-view+json": {
       "model_id": "86a7227ac3e54add9a4ff45e5098b4b2",
       "version_major": 2,
       "version_minor": 0
      },
      "text/plain": [
       "IntProgress(value=0, max=409)"
      ]
     },
     "metadata": {},
     "output_type": "display_data"
    },
    {
     "name": "stdout",
     "output_type": "stream",
     "text": [
      "Integration window: 0 Sa to 1024 Sa.\n"
     ]
    }
   ],
   "source": [
    "charges, amplitudes, timings = {}, {}, {}\n",
    "channels = [\"00\", \"01\", \"02\", \"03\"]\n",
    "for ch in channels:\n",
    "    charges[ch], amplitudes[ch], timings[ch] = analyze_data(waveforms[ch], A=None, B=None, j_A=10, j_B=100, auto_window = False)"
   ]
  },
  {
   "cell_type": "markdown",
   "id": "2225dfd8-07fe-4b6a-a376-8963e317a95b",
   "metadata": {},
   "source": [
    "* The pulse charges for channel ```'01'``` and amplitudes for channel ```'03'``` then accessed as:"
   ]
  },
  {
   "cell_type": "code",
   "execution_count": 19,
   "id": "3050e29a-60a5-465b-b14d-3a0e1a83f669",
   "metadata": {
    "scrolled": true
   },
   "outputs": [
    {
     "data": {
      "text/plain": [
       "array([484026.171875  , 483263.25683594, 482259.97721354, 487066.96777344,\n",
       "       482395.05208333, 482634.71679688, 482689.86816406, 475802.97851562,\n",
       "       439339.11132812, 482173.8688151 , 484276.171875  , 482388.39518229,\n",
       "       482705.76985677, 484284.95279948, 483762.67089844, 484686.31184896,\n",
       "       481945.58105469, 489752.62858073, 479826.73339844, 483413.6311849 ,\n",
       "       479526.90429688, 482823.76302083, 474210.10742188, 482722.1110026 ,\n",
       "       484863.18359375, 483055.12695312, 483216.13769531, 484097.0296224 ,\n",
       "       484370.19042969, 482832.80436198, 484350.69986979, 481857.69042969,\n",
       "       485506.03841146, 481696.875     , 486052.63671875, 482542.35839844,\n",
       "       486651.83919271, 472005.8186849 , 481606.33951823, 484515.02278646,\n",
       "       483603.19824219, 483264.2985026 , 482830.2327474 , 475764.99023438,\n",
       "       480460.03417969, 484850.35807292, 484323.0875651 , 485534.9202474 ,\n",
       "       483585.49804688, 483356.27441406, 480563.89160156, 484022.3063151 ,\n",
       "       477392.02473958, 485089.09505208, 490680.06998698, 487309.68424479,\n",
       "       482129.60611979, 482960.67708333, 483391.31673177, 481573.61653646,\n",
       "       489711.84082031, 494382.6578776 , 485457.69856771, 481262.02799479,\n",
       "       490684.14713542, 489525.52897135, 487453.54003906, 483969.02669271,\n",
       "       484939.03808594, 485393.5953776 , 483534.48893229, 486231.22558594,\n",
       "       484519.54752604, 484303.66210938, 477615.50292969, 494815.34830729,\n",
       "       482194.93815104, 483762.23144531, 483104.98046875, 485647.4202474 ,\n",
       "       483647.77018229, 487052.14029948, 487616.21907552, 485844.32779948,\n",
       "       484928.97949219, 481743.86393229, 456749.43847656, 479598.9827474 ,\n",
       "       485297.01334635, 485421.10188802, 479953.65397135, 490489.93326823,\n",
       "       484529.55729167, 481777.28678385, 486115.13671875, 484977.42513021,\n",
       "       491054.89908854, 487883.34147135, 487993.53841146, 485321.99707031,\n",
       "       481605.72102865, 483302.76692708, 483239.33105469, 480462.59765625,\n",
       "       484864.53450521, 479426.04166667, 481796.00423177, 483303.10872396,\n",
       "       483155.1188151 , 486420.88216146, 485235.08300781, 483573.20963542,\n",
       "       483062.68717448, 478835.59570312, 486605.4280599 , 480493.08268229,\n",
       "       481691.59342448, 491162.3046875 , 486161.30371094, 483846.72851562,\n",
       "       481883.203125  , 486590.55175781, 487791.89453125, 494862.23144531,\n",
       "       481543.72558594, 483916.46321615, 479797.17610677, 485384.8063151 ,\n",
       "       470283.08919271, 467198.95019531, 481261.5234375 , 486376.83105469,\n",
       "       481086.14908854, 493938.18359375, 484878.9469401 , 483715.69010417,\n",
       "       484013.55794271, 483647.71321615, 488120.95540365, 485076.5218099 ,\n",
       "       484816.95963542, 478880.85123698, 482523.46191406, 486403.40983073,\n",
       "       479774.32454427, 482788.11035156, 482607.66601562, 489820.05208333,\n",
       "       483464.16015625, 486382.02311198, 488545.93098958, 488069.18945312,\n",
       "       483398.5921224 , 484746.69596354, 483001.82291667, 482857.41373698,\n",
       "       479140.43782552, 480257.56022135, 484959.44010417, 484043.06640625,\n",
       "       481652.5390625 , 482079.1015625 , 478617.20377604, 480808.76464844,\n",
       "       482235.18880208, 488220.92285156, 482442.4235026 , 499661.6780599 ,\n",
       "       483848.81184896, 482215.02278646, 465722.08658854, 475798.53515625,\n",
       "       489658.65885417, 489205.72916667, 484876.00911458, 482934.47265625,\n",
       "       484761.53971354, 486152.48209635, 490709.48893229, 482644.16503906,\n",
       "       476109.86328125, 489329.36197917, 483073.73046875, 486224.43847656,\n",
       "       482333.52864583, 486524.35709635, 483864.96582031, 482059.18782552,\n",
       "       484159.24479167, 483067.87109375, 483004.94791667, 482250.30924479,\n",
       "       487733.08919271, 485974.75585938, 484216.65852865, 458963.41959635,\n",
       "       477480.22460938, 481038.8671875 , 482539.56705729, 485271.89941406,\n",
       "       482047.14355469, 475384.65983073, 486868.99414062, 481414.84375   ,\n",
       "       481565.20182292, 485445.71940104, 483629.39453125, 488239.90071615,\n",
       "       483046.76920573, 501722.55045573, 482507.86946615, 480548.03873698,\n",
       "       483597.265625  , 482511.98730469, 484509.36686198, 477734.94466146,\n",
       "       483939.85188802, 484846.17513021, 482903.97949219, 489928.45052083,\n",
       "       485410.08300781, 487158.26822917, 484653.58886719, 411634.1389974 ,\n",
       "       478652.85644531, 481138.64746094, 487548.07942708, 484427.83203125,\n",
       "       484302.81575521, 479037.890625  , 486864.53450521, 484175.68359375,\n",
       "       486139.90071615, 481381.99869792, 483253.19824219, 483897.87597656,\n",
       "       484590.51106771, 492326.31022135, 483465.24251302, 489002.44140625,\n",
       "       481744.84049479, 484568.77441406, 481075.81380208, 478737.00358073,\n",
       "       482187.28027344, 484982.20214844, 483663.46842448, 488720.00325521,\n",
       "       487061.3688151 , 483508.75651042, 491780.82682292, 486136.6780599 ,\n",
       "       483071.04492188, 481106.71386719, 480731.28255208, 482067.52115885,\n",
       "       480930.04557292, 479829.91536458, 473201.06608073, 486944.9625651 ,\n",
       "       487272.6969401 , 460463.4765625 , 481590.78776042, 483029.81770833,\n",
       "       479300.65917969, 483702.79134115, 489108.37402344, 481304.93164062,\n",
       "       482591.51204427, 478587.32910156, 478758.88671875, 484285.05859375,\n",
       "       481834.35872396, 481665.8610026 , 482444.78352865, 481002.1484375 ,\n",
       "       482172.83528646, 482295.59733073, 485421.71223958, 485671.89127604,\n",
       "       473681.46972656, 485799.91861979, 485764.08691406, 484737.63834635,\n",
       "       485006.07096354, 483911.19791667, 483594.62076823, 469086.81640625,\n",
       "       483166.25976562, 480607.12076823, 478690.24251302, 481815.06347656,\n",
       "       484701.11490885, 481939.36360677, 485319.01041667, 485991.78059896,\n",
       "       482188.4765625 , 484237.08496094, 484568.83138021, 486561.92220052,\n",
       "       479366.70735677, 484619.50683594, 483961.49902344, 483596.98893229,\n",
       "       479340.55175781, 483860.47363281, 488138.77766927, 483656.10351562,\n",
       "       482396.35416667, 482284.89583333, 486089.94954427, 484052.26236979,\n",
       "       486164.87630208, 485001.77408854, 492095.48339844, 477900.95214844,\n",
       "       482299.08854167, 485715.234375  , 483415.64941406, 484857.53580729,\n",
       "       483932.51139323, 446622.23307292, 482101.89615885, 484071.3297526 ,\n",
       "       483015.8610026 , 484020.93098958, 489943.61165365, 484296.15071615,\n",
       "       484178.01106771, 482311.03515625, 457405.3141276 , 466236.69433594,\n",
       "       485498.2014974 , 485513.63932292, 482511.54785156, 484070.8577474 ,\n",
       "       484155.12695312, 482894.64518229, 480483.69140625, 477035.59570312,\n",
       "       486805.83496094, 482297.00520833, 486386.73502604, 481937.36979167,\n",
       "       483615.60872396, 480409.90397135, 482505.90820312, 479159.79003906,\n",
       "       480451.07421875, 475885.0016276 , 481558.41471354, 477511.23860677,\n",
       "       482375.78938802, 481865.95052083, 463759.50520833, 497650.52897135,\n",
       "       482867.39908854, 479276.4078776 , 482367.70019531, 478960.13997396,\n",
       "       488617.40722656, 484902.05078125, 483738.4358724 , 483894.09179688,\n",
       "       481472.93294271, 483422.92480469, 474585.85611979, 487448.96647135,\n",
       "       481909.26106771, 483255.84309896, 484396.16699219, 483674.78841146,\n",
       "       488401.29394531, 482414.85188802, 481005.18391927, 484640.13671875,\n",
       "       483601.51367188, 480869.11621094, 480180.1188151 , 480549.609375  ,\n",
       "       483775.57779948, 481443.45703125, 485273.23404948, 495237.28027344,\n",
       "       478059.54589844, 482886.89778646, 487219.93001302, 484408.34147135,\n",
       "       481561.11653646, 472068.82324219, 478978.73535156, 482011.5641276 ,\n",
       "       481338.72884115, 507773.12825521, 483992.84667969, 479887.23958333,\n",
       "       483826.42415365, 484354.16666667, 483022.81901042, 481568.82324219,\n",
       "       474604.00390625, 490194.67773438, 510010.07486979, 483904.40266927,\n",
       "       466222.98177083, 483617.95247396, 484181.32324219, 483432.8125    ,\n",
       "       482877.21354167])"
      ]
     },
     "execution_count": 19,
     "metadata": {},
     "output_type": "execute_result"
    }
   ],
   "source": [
    "charges['01']"
   ]
  },
  {
   "cell_type": "code",
   "execution_count": 20,
   "id": "2a9dd474-89fb-4017-b8d0-f15125a43d0c",
   "metadata": {
    "scrolled": true
   },
   "outputs": [
    {
     "data": {
      "text/plain": [
       "array([948.65722656, 909.68424479, 940.41341146, 949.21061198,\n",
       "       946.73665365, 911.43391927, 938.74511719, 941.34928385,\n",
       "       935.67708333, 948.52701823, 930.14322917, 928.3203125 ,\n",
       "       912.94759115, 906.2093099 , 948.09570312, 929.63053385,\n",
       "       878.33658854, 947.54231771, 875.06510417, 941.09700521,\n",
       "       884.11458333, 949.16992188, 878.82486979, 911.53971354,\n",
       "       944.81608073, 946.23209635, 883.06477865, 945.86588542,\n",
       "       940.34016927, 949.24316406, 902.07519531, 947.72135417,\n",
       "       946.7203776 , 949.49544271, 949.73958333, 947.37141927,\n",
       "       946.17513021, 941.58528646, 909.57845052, 946.875     ,\n",
       "       949.81282552, 928.90625   , 949.92675781, 940.87727865,\n",
       "       884.56217448, 945.87402344, 949.40592448, 926.1311849 ,\n",
       "       947.48535156, 925.80566406, 841.30859375, 943.65234375,\n",
       "       942.23632812, 928.99576823, 944.89746094, 902.61230469,\n",
       "       892.89550781, 907.76367188, 935.29459635, 859.4156901 ,\n",
       "       948.25846354, 941.84570312, 900.08138021, 943.84765625,\n",
       "       948.12011719, 947.59114583, 949.68261719, 856.42903646,\n",
       "       945.04394531, 948.07128906, 949.14550781, 947.72135417,\n",
       "       946.2483724 , 910.03417969, 883.3577474 , 921.89941406,\n",
       "       892.4235026 , 917.63509115, 925.5452474 , 949.21875   ,\n",
       "       914.09505208, 947.5016276 , 948.64908854, 948.79557292,\n",
       "       948.26660156, 887.76855469, 942.91992188, 842.39095052,\n",
       "       936.02701823, 947.88411458, 873.68164062, 948.65722656,\n",
       "       946.7203776 , 890.84472656, 946.60644531, 917.30957031,\n",
       "       948.71419271, 939.38802083, 948.74674479, 942.17936198,\n",
       "       903.76790365, 944.93001302, 935.72591146, 850.89518229,\n",
       "       927.39257812, 877.93782552, 910.14811198, 874.33268229,\n",
       "       948.86067708, 948.09570312, 946.79361979, 944.40104167,\n",
       "       941.47135417, 943.38378906, 935.55501302, 890.49479167,\n",
       "       943.96972656, 948.18522135, 948.29915365, 947.78645833,\n",
       "       878.10872396, 939.42871094, 926.41601562, 937.27213542,\n",
       "       943.79882812, 945.01139323, 883.99251302, 945.54036458,\n",
       "       938.76953125, 940.60872396, 941.9514974 , 948.64908854,\n",
       "       941.88639323, 949.32454427, 947.15169271, 949.03971354,\n",
       "       931.96614583, 932.45442708, 944.53125   , 932.67415365,\n",
       "       929.06901042, 839.42871094, 919.28710938, 947.93294271,\n",
       "       890.8610026 , 837.0686849 , 941.91894531, 946.85058594,\n",
       "       949.0234375 , 948.25846354, 947.59928385, 948.49446615,\n",
       "       928.23893229, 948.64095052, 926.69270833, 941.90266927,\n",
       "       887.81738281, 886.58040365, 948.56770833, 949.16992188,\n",
       "       940.18554688, 909.48079427, 868.53841146, 896.43554688,\n",
       "       881.65690104, 950.01627604, 919.44173177, 948.70605469,\n",
       "       944.60449219, 928.70279948, 941.65852865, 842.96061198,\n",
       "       946.27278646, 948.85253906, 900.83821615, 944.79980469,\n",
       "       949.0641276 , 948.64908854, 937.7360026 , 915.88541667,\n",
       "       943.24544271, 948.51888021, 935.81542969, 946.53320312,\n",
       "       948.86067708, 939.11132812, 939.2171224 , 904.2561849 ,\n",
       "       931.69759115, 947.59928385, 948.85253906, 948.26660156,\n",
       "       948.54329427, 945.02766927, 910.05045573, 939.11132812,\n",
       "       939.0218099 , 881.26627604, 939.08691406, 946.0530599 ,\n",
       "       945.23111979, 884.74934896, 946.37858073, 906.81152344,\n",
       "       949.04785156, 948.81184896, 948.64095052, 949.63378906,\n",
       "       945.00325521, 949.51171875, 929.44335938, 885.49804688,\n",
       "       947.50976562, 948.73860677, 949.13736979, 946.58203125,\n",
       "       948.45377604, 916.30045573, 947.4609375 , 939.51009115,\n",
       "       874.72330729, 924.94303385, 949.31640625, 872.10286458,\n",
       "       907.30794271, 892.11425781, 945.40201823, 948.70605469,\n",
       "       935.31901042, 873.85253906, 934.93652344, 905.65592448,\n",
       "       929.28059896, 897.37955729, 935.7421875 , 917.20377604,\n",
       "       940.20996094, 948.89322917, 940.12858073, 947.74576823,\n",
       "       949.16178385, 947.49348958, 877.22981771, 873.50260417,\n",
       "       948.72233073, 948.53515625, 934.1389974 , 930.1188151 ,\n",
       "       948.91764323, 947.60742188, 916.06445312, 948.54329427,\n",
       "       948.95019531, 916.78873698, 864.72167969, 944.10807292,\n",
       "       940.83658854, 929.52473958, 944.83235677, 945.65429688,\n",
       "       930.72916667, 938.46842448, 870.52408854, 933.60188802,\n",
       "       899.10481771, 945.68684896, 940.61686198, 947.52604167,\n",
       "       941.74804688, 843.17220052, 872.38769531, 944.32779948,\n",
       "       940.13671875, 908.58561198, 922.97363281, 926.80664062,\n",
       "       945.76009115, 848.17708333, 947.63183594, 948.79557292,\n",
       "       941.34114583, 920.47526042, 937.55696615, 941.69108073,\n",
       "       948.99902344, 937.90690104, 948.32356771, 925.65104167,\n",
       "       866.74804688, 900.18717448, 947.45279948, 946.92382812,\n",
       "       947.37955729, 918.36751302, 945.27994792, 935.64453125,\n",
       "       914.08691406, 892.0328776 , 923.64908854, 948.97460938,\n",
       "       843.73372396, 948.46191406, 947.8922526 , 917.64322917,\n",
       "       871.76106771, 933.78092448, 916.70735677, 947.85970052,\n",
       "       947.68880208, 948.45377604, 911.64550781, 915.08789062,\n",
       "       948.34798177, 946.33789062, 904.87467448, 945.87402344,\n",
       "       909.03320312, 892.23632812, 943.96158854, 932.12890625,\n",
       "       944.66145833, 693.37565104, 901.44042969, 935.96191406,\n",
       "       947.52604167, 945.26367188, 941.7561849 , 948.06315104,\n",
       "       947.24934896, 911.00260417, 943.31054688, 946.55761719,\n",
       "       942.08170573, 938.6311849 , 944.31152344, 933.52050781,\n",
       "       917.36653646, 934.75748698, 917.8141276 , 940.06347656,\n",
       "       942.94433594, 943.64420573, 946.78548177, 929.19921875,\n",
       "       946.47623698, 938.11848958, 935.79101562, 928.76790365,\n",
       "       866.16210938, 856.51855469, 938.97298177, 932.16145833,\n",
       "       942.17122396, 945.89029948, 936.25488281, 946.04492188,\n",
       "       940.0390625 , 906.85221354, 937.00358073, 864.03808594,\n",
       "       937.99641927, 947.37955729, 944.86490885, 947.38769531,\n",
       "       946.70410156, 946.62272135, 940.60058594, 946.09375   ,\n",
       "       926.44856771, 946.55761719, 925.74869792, 941.38183594,\n",
       "       940.41341146, 906.77897135, 924.38964844, 931.06282552,\n",
       "       946.47623698, 889.22526042, 946.34602865, 886.75130208,\n",
       "       946.10188802, 913.76953125, 906.4453125 , 934.77376302,\n",
       "       942.71647135, 947.1110026 , 945.53222656, 944.64518229,\n",
       "       945.77636719, 940.07161458, 938.19986979, 940.36458333,\n",
       "       902.01822917, 939.02994792, 944.71842448, 896.79361979,\n",
       "       947.53417969, 940.67382812, 946.92382812, 891.49576823,\n",
       "       936.54785156, 939.78678385, 946.27278646, 914.35546875,\n",
       "       929.38639323, 945.90657552, 946.5250651 , 886.63736979,\n",
       "       935.60384115])"
      ]
     },
     "execution_count": 20,
     "metadata": {},
     "output_type": "execute_result"
    }
   ],
   "source": [
    "amplitudes['03']"
   ]
  },
  {
   "cell_type": "markdown",
   "id": "0e283ce2-2746-4a2b-873e-a44d77e734d4",
   "metadata": {},
   "source": [
    "# 4. Save Pulse Information"
   ]
  },
  {
   "cell_type": "markdown",
   "id": "27dbd2db-4463-4888-8643-10dab7b62335",
   "metadata": {},
   "source": [
    "* Save pulse information in the goold old way of storing particle physics data -- a ROOT file.\n",
    "* First organize data into a dictionary that contains the other dictionaries. "
   ]
  },
  {
   "cell_type": "code",
   "execution_count": 25,
   "id": "8f3f6aa3-2234-401d-bcf6-48f83b6c18fd",
   "metadata": {},
   "outputs": [],
   "source": [
    "data = {\"amplitude\":amplitudes, \"charge\":charges, \"timing\":timings}"
   ]
  },
  {
   "cell_type": "markdown",
   "id": "adc381f7-a8db-4763-9505-43477d4dcd7f",
   "metadata": {},
   "source": [
    "* Define a function that calls uproot and stores that dictionary into a ROOT file."
   ]
  },
  {
   "cell_type": "code",
   "execution_count": 26,
   "id": "3e1ffc73",
   "metadata": {},
   "outputs": [],
   "source": [
    "def to_root(file_name, data):\n",
    "    # @descrition: Save data dictionary to a tree in a root file\n",
    "    # @params: _file_name_ with path to root file and _data_ dict.\n",
    "    print(f\"Saving to: {file_name}.root\")\n",
    "    with uproot.recreate(file_name+\".root\") as output_file:\n",
    "        output_file[\"pulse_information\"] = data"
   ]
  },
  {
   "cell_type": "markdown",
   "id": "ed52d21a-624e-4140-9a7f-d47569f6a547",
   "metadata": {},
   "source": [
    "* Run that function to actually save the data."
   ]
  },
  {
   "cell_type": "code",
   "execution_count": 27,
   "id": "3f44fa80-1ccf-4e5b-ab20-890571ec78ff",
   "metadata": {},
   "outputs": [
    {
     "name": "stdout",
     "output_type": "stream",
     "text": [
      "Saving to: ./pulse_info_29.root.root\n"
     ]
    }
   ],
   "source": [
    "to_root(\"./pulse_info_29.root\", data)"
   ]
  },
  {
   "cell_type": "markdown",
   "id": "b5409f34-ee1f-4bac-aaf6-b8539e785cb3",
   "metadata": {},
   "source": [
    "### Are you tired of using ROOT?"
   ]
  },
  {
   "cell_type": "markdown",
   "id": "459319fd-2129-4336-84dc-59cde3db122e",
   "metadata": {},
   "source": [
    "* Are you tired of defining classes, branches and trees just to store 3 arrays?\n",
    "  \n",
    "* ***numpy will store your dictionaries with a single liner.***\n",
    "  \n",
    "* [If interested, please refer to [this documentation.](https://numpy.org/doc/2.1/reference/generated/numpy.savez.html) ]"
   ]
  },
  {
   "cell_type": "code",
   "execution_count": 28,
   "id": "69827f1d-85bc-42fe-8514-43ac18cf5072",
   "metadata": {},
   "outputs": [],
   "source": [
    "def to_npz(file_name, data):\n",
    "    # Save data dictionary to an npz file\n",
    "    # @params: _file_name_ with path to npz file and _data_ dict.   \n",
    "    print(f\"Saving to: {file_name}\")\n",
    "    np.savez_compressed(file_name, **data)"
   ]
  },
  {
   "cell_type": "code",
   "execution_count": 29,
   "id": "b8549288-23c9-4101-8320-37758826d059",
   "metadata": {},
   "outputs": [
    {
     "name": "stdout",
     "output_type": "stream",
     "text": [
      "Saving to: ./pulse_info_28.npz\n"
     ]
    }
   ],
   "source": [
    "to_npz(\"./pulse_info_28.npz\", data)"
   ]
  }
 ],
 "metadata": {
  "kernelspec": {
   "display_name": "Python 3 (ipykernel)",
   "language": "python",
   "name": "python3"
  },
  "language_info": {
   "codemirror_mode": {
    "name": "ipython",
    "version": 3
   },
   "file_extension": ".py",
   "mimetype": "text/x-python",
   "name": "python",
   "nbconvert_exporter": "python",
   "pygments_lexer": "ipython3",
   "version": "3.12.2"
  }
 },
 "nbformat": 4,
 "nbformat_minor": 5
}
